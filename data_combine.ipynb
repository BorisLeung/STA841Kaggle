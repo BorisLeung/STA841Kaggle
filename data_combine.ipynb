{
 "cells": [
  {
   "cell_type": "markdown",
   "metadata": {},
   "source": [
    "A notebook to combine train data\n"
   ]
  },
  {
   "cell_type": "code",
   "execution_count": 1,
   "metadata": {},
   "outputs": [],
   "source": [
    "HOUSE_PREFIX = \"house_\"\n",
    "EDU_PREFIX = \"edu_\"\n",
    "\n",
    "PROCESSED_DIR = \"processed\""
   ]
  },
  {
   "cell_type": "code",
   "execution_count": 2,
   "metadata": {},
   "outputs": [
    {
     "data": {
      "text/plain": [
       "(5337, 99)"
      ]
     },
     "execution_count": 2,
     "metadata": {},
     "output_type": "execute_result"
    }
   ],
   "source": [
    "import os\n",
    "\n",
    "import numpy as np\n",
    "import pandas as pd\n",
    "\n",
    "from data import *\n",
    "\n",
    "house_train[\"psu_hh_idcode\"] = (\n",
    "    house_train[\"psu\"].astype(str)\n",
    "    + \"_\"\n",
    "    + house_train[\"hh\"].astype(str)\n",
    "    + \"_\"\n",
    "    + house_train[\"idcode\"].astype(str)\n",
    ")\n",
    "edu_train[\"psu_hh_idcode\"] = (\n",
    "    edu_train[\"psu\"].astype(str)\n",
    "    + \"_\"\n",
    "    + edu_train[\"hh\"].astype(str)\n",
    "    + \"_\"\n",
    "    + edu_train[\"idcode\"].astype(str)\n",
    ")\n",
    "\n",
    "house_train_prefixed = house_train.drop(\n",
    "    columns=[\"psu\", \"hh\", \"idcode\", \"hhid\"]\n",
    ").add_prefix(HOUSE_PREFIX)\n",
    "edu_train_prefixed = edu_train.drop(columns=[\"psu\", \"hh\", \"idcode\"]).add_prefix(\n",
    "    EDU_PREFIX\n",
    ")\n",
    "\n",
    "# remove prefix on the key merge column \"psh_hh_idcode\"\n",
    "house_train_prefixed = house_train_prefixed.rename(\n",
    "    columns={\"house_psu_hh_idcode\": \"psu_hh_idcode\"}\n",
    ")\n",
    "edu_train_prefixed = edu_train_prefixed.rename(\n",
    "    columns={\"edu_psu_hh_idcode\": \"psu_hh_idcode\"}\n",
    ")\n",
    "\n",
    "combined_train = pd.merge(\n",
    "    pd.merge(\n",
    "        pov_train,\n",
    "        house_train_prefixed,\n",
    "        on=\"psu_hh_idcode\",\n",
    "        how=\"left\",\n",
    "        suffixes=[None, \"_house\"],\n",
    "    ),\n",
    "    edu_train_prefixed,\n",
    "    on=\"psu_hh_idcode\",\n",
    "    how=\"left\",\n",
    "    suffixes=[None, \"_edu\"],\n",
    ")\n",
    "\n",
    "combined_train.columns = combined_train.columns.str.lower()\n",
    "assert combined_train.shape[0] == pov_train.shape[0]  # same number of rows\n",
    "\n",
    "# save to csv\n",
    "combined_train.to_csv(os.path.join(PROCESSED_DIR, \"combined_train.csv\"), index=False)\n",
    "combined_train.shape"
   ]
  },
  {
   "cell_type": "code",
   "execution_count": 3,
   "metadata": {},
   "outputs": [
    {
     "data": {
      "text/plain": [
       "(1334, 99)"
      ]
     },
     "execution_count": 3,
     "metadata": {},
     "output_type": "execute_result"
    }
   ],
   "source": [
    "# now test data\n",
    "house_test[\"psu_hh_idcode\"] = (\n",
    "    house_test[\"psu\"].astype(str)\n",
    "    + \"_\"\n",
    "    + house_test[\"hh\"].astype(str)\n",
    "    + \"_\"\n",
    "    + house_test[\"idcode\"].astype(str)\n",
    ")\n",
    "edu_test[\"psu_hh_idcode\"] = (\n",
    "    edu_test[\"psu\"].astype(str)\n",
    "    + \"_\"\n",
    "    + edu_test[\"hh\"].astype(str)\n",
    "    + \"_\"\n",
    "    + edu_test[\"idcode\"].astype(str)\n",
    ")\n",
    "house_test_prefixed = house_test.drop(\n",
    "    columns=[\"psu\", \"hh\", \"idcode\", \"hhid\"]\n",
    ").add_prefix(\"house_\")\n",
    "edu_test_prefixed = edu_test.drop(columns=[\"psu\", \"hh\", \"idcode\"]).add_prefix(\"edu_\")\n",
    "\n",
    "# remove prefix on the key merge column \"psh_hh_idcode\"\n",
    "house_test_prefixed = house_test_prefixed.rename(\n",
    "    columns={\"house_psu_hh_idcode\": \"psu_hh_idcode\"}\n",
    ")\n",
    "edu_test_prefixed = edu_test_prefixed.rename(\n",
    "    columns={\"edu_psu_hh_idcode\": \"psu_hh_idcode\"}\n",
    ")\n",
    "\n",
    "combined_test = pd.merge(\n",
    "    pd.merge(\n",
    "        sample_submission,\n",
    "        house_test_prefixed,\n",
    "        on=\"psu_hh_idcode\",\n",
    "        how=\"left\",\n",
    "        suffixes=[None, \"_house\"],\n",
    "    ),\n",
    "    edu_test_prefixed,\n",
    "    on=\"psu_hh_idcode\",\n",
    "    how=\"left\",\n",
    "    suffixes=[None, \"_edu\"],\n",
    ")\n",
    "combined_test.columns = combined_test.columns.str.lower()\n",
    "assert combined_test.shape[0] == sample_submission.shape[0]  # same number of rows\n",
    "\n",
    "# save to csv\n",
    "combined_test.to_csv(os.path.join(PROCESSED_DIR, \"combined_test.csv\"), index=False)\n",
    "combined_test.shape"
   ]
  }
 ],
 "metadata": {
  "kernelspec": {
   "display_name": "sta841kaggle",
   "language": "python",
   "name": "python3"
  },
  "language_info": {
   "codemirror_mode": {
    "name": "ipython",
    "version": 3
   },
   "file_extension": ".py",
   "mimetype": "text/x-python",
   "name": "python",
   "nbconvert_exporter": "python",
   "pygments_lexer": "ipython3",
   "version": "3.10.15"
  }
 },
 "nbformat": 4,
 "nbformat_minor": 2
}
